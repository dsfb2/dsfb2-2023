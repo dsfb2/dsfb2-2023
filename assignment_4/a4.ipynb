{
  "nbformat": 4,
  "nbformat_minor": 0,
  "metadata": {
    "colab": {
      "provenance": []
    },
    "kernelspec": {
      "name": "python3",
      "display_name": "Python 3"
    },
    "language_info": {
      "name": "python"
    }
  },
  "cells": [
    {
      "cell_type": "markdown",
      "source": [
        "# Assigment 4 - IML and xAI with shap\n",
        "Submission DDL: 01.12.2023 23:59.\n",
        "\n",
        "* Submit your work to the submission box on MyCourses. You should submit only the **.ipynb file** with your code.\n",
        "* Before submission use *Runtime* > *Run all* to make sure that your notebook runs without errors.\n",
        "* To download the file from Google Colab use *File* > *Download* > *Download .ipynb*.\n",
        "* Submit the file with the name: A4_NAME_SURNAME_STUDENT NUMBER.ipynb\n",
        "\n",
        "**NB! Before editing the file, save a local copy to your Google Drive, otherwise your progress will be lost**"
      ],
      "metadata": {
        "id": "TksXjGsZHXGC"
      }
    },
    {
      "cell_type": "markdown",
      "source": [
        "In this assignment you will combine the knowledge acquired earlier in the course with the content of Module 4. The task contains 2 parts: explanation of a model with tabular data and explanation of a model with image/text data. You are encouraged to use the code from the previous tutorials as well as from your previous assignments. There is no specific task-related code provided. Main modules are imported for your convenience. You can load any other modules you find useful.\n",
        "Please, keep your code rather clean and understandable. Descriptions of tasks are provided after imports."
      ],
      "metadata": {
        "id": "LiEkGdgJIsAl"
      }
    },
    {
      "cell_type": "code",
      "source": [
        "# install shap transformers datasets\n",
        "!pip install shap transformers datasets"
      ],
      "metadata": {
        "id": "X-B-2OTxJhTM"
      },
      "execution_count": null,
      "outputs": []
    },
    {
      "cell_type": "code",
      "execution_count": null,
      "metadata": {
        "id": "k_4FMd8qHTvv"
      },
      "outputs": [],
      "source": [
        "import torch\n",
        "import torchvision\n",
        "import torchvision.transforms as transforms\n",
        "\n",
        "import torch.nn as nn\n",
        "import torch.nn.functional as F\n",
        "import torch.optim as optim\n",
        "\n",
        "import pandas as pd\n",
        "import numpy as np\n",
        "import xgboost as xgb\n",
        "from sklearn.datasets import fetch_california_housing\n",
        "from sklearn.metrics import mean_squared_error,r2_score\n",
        "from sklearn.model_selection import KFold\n",
        "import matplotlib.pyplot as plt\n",
        "\n",
        "import shap\n",
        "\n",
        "student_number = # INPUT YOUR STUDENT NUMBER HERE, omit the letters\n",
        "assert type(student_number) is int, \"Exclude letters, leave only numbers\"\n",
        "\n",
        "np.random.seed(student_number)\n",
        "torch.manual_seed(student_number)\n",
        "\n",
        "%matplotlib inline\n",
        "%config InlineBackend.figure_format = 'retina'"
      ]
    },
    {
      "cell_type": "markdown",
      "source": [
        "## Task A - Tabular data - 15 points\n",
        "Your task is to build a model on some tabular data and explain predictions and  observations using shap. The task consists of the following parts:\n",
        "- **A1** - find the suitable dataset (contains at least 3 features), import it and describe. Provide vizualizations. Shortly describe the problem you're solving (e.g. predicting price, customer churn, etc) **(2 points)** \\\n",
        " *Recommendation:* find a simple and clean dataset with at least 3 features, preferrably with the continuous target variable - then you can apply the same explanations as in the tutorial. If you do some data processing, shortly describe it.\n",
        "- **A2** - build a non-interpretable predictive model (regression/classification, depending on your data, you need to select only one). Assess the performance of the model using the suitable metrics of your choice. Write a short report (several sentences) on the model performance **(5 points)** \\\n",
        " *Recommendation:* use XGBoost or RandomForestClassifier depending on your data. In terms of performance, try to achieve $R^2 \\geq 0.5$ for regression and better than random guessing accuracy for classification. For performance assessment use at least $R^2$ + MSE or accuracy/recall + confusion matrix. It is better to build a solid model on simple data rather rather than try to build some fancy model on fancy data.\n",
        "- **A3** - interprete the model results using shap. Write full interpretation for each feature for one of the observations. Show the waterfall plot for this observation. Show the bar plot for the mean absolute shap values as well. Shortly explain the meaning of that plot. **(8 points)** \\\n",
        " Recommendation: Correct formulation of interpretation is extreamely important, please check the lecture and the tutorial.\n",
        "\n",
        "*General recommendation:* You can follow the tutorial with the dataset of your choice. Keep your explanations rather simple. The main aim is for you to show that you understand how to build and to explain the model. Your code and short reports should show your understanding."
      ],
      "metadata": {
        "id": "Slfm3aIaK3m2"
      }
    },
    {
      "cell_type": "code",
      "source": [
        "# starting code cell for part A"
      ],
      "metadata": {
        "id": "ooNgglplK4FU"
      },
      "execution_count": null,
      "outputs": []
    },
    {
      "cell_type": "markdown",
      "source": [
        "## Task B - Image/Text data - 10 points\n",
        "\n",
        "Your task is to build a **classification** model on some image/text data and explain predictions and observations using shap. It is up to you whether you want to use image or text data, but you need to select only one.\n",
        "\n",
        "- **B1** - select the data and the model that you will use. Shortly describe what is the dataset, model type and model structure. Prepare the model and the data for the explanation (activate data loaders, load the checkpoint, etc.). **(5 points)**\\\n",
        " *Recommendation:* You don't need to show model training, you can upload the checkpoint from one of the models from previous assignments or from the web\n",
        "- **B2** - explain model predictions using shap. **(5 points)** \\\n",
        " *Recommendation:* For image data show the image_plot and describe which pixels are important for prediction of different classes. For text_data show the text plot and describe which words are important for prediction of different classes.\n",
        "\n",
        "*General recommendation:* The easiest and recommended way is to take the model from Assignment 2 (the VGG network), retrain it with `inplace=false` for ReLU (as shown in the tutorial) and use it for shap explanations. More advanced way is to use the transformer from Assignment 3. The hardest one is to find some custom model and dataset from the web. Grading does not depend on how advance option you take as the aim for you is to show your understanding rather than to build some complex models."
      ],
      "metadata": {
        "id": "OChCK8ASK4i_"
      }
    },
    {
      "cell_type": "code",
      "source": [
        "# starting code cell for part B"
      ],
      "metadata": {
        "id": "KJDc_M9DK47c"
      },
      "execution_count": null,
      "outputs": []
    }
  ]
}