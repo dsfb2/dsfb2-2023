{
  "nbformat": 4,
  "nbformat_minor": 0,
  "metadata": {
    "colab": {
      "provenance": []
    },
    "kernelspec": {
      "name": "python3",
      "display_name": "Python 3"
    },
    "language_info": {
      "name": "python"
    }
  },
  "cells": [
    {
      "cell_type": "markdown",
      "source": [
        "#Tutorial Module 1\n",
        "\n",
        "The tutorial is related to quantile regression in linear formulation. The task is based on the Instacart example from the lecture.\n",
        "\n",
        "You are provided with the data on distance between shop and buyer and the time spent to deliver the order of the buyer. Your will see how to explore the data and to build quantile regression models to estimate the delivery predictions.\n",
        "\n",
        "For help check sklearn documentation for [linear](https://scikit-learn.org/stable/modules/linear_model.html?highlight=quantile+regression#ordinary-least-squares) and [quantile](https://scikit-learn.org/stable/modules/linear_model.html?highlight=quantile+regression#quantile-regression) regressions, as well as for [cross-validation](https://scikit-learn.org/stable/modules/cross_validation.html?highlight=cross+validation).\n",
        "\n"
      ],
      "metadata": {
        "id": "Ei-nHKQ_PhgC"
      }
    },
    {
      "cell_type": "code",
      "execution_count": 1,
      "metadata": {
        "id": "zRbUBqZyjm-l"
      },
      "outputs": [],
      "source": [
        "# import dependencies\n",
        "# DO NOT MODIFY THIS CELL\n",
        "import pandas as pd\n",
        "import matplotlib.pyplot as plt\n",
        "import seaborn as sns\n",
        "import numpy as np\n",
        "from sklearn.linear_model import QuantileRegressor, LinearRegression\n",
        "from sklearn.metrics import mean_squared_error, mean_absolute_error\n",
        "from sklearn.model_selection import cross_validate\n",
        "\n",
        "# some magic\n",
        "%matplotlib inline\n",
        "%config InlineBackend.figure_format='retina' # high-resolution plots"
      ]
    },
    {
      "cell_type": "code",
      "source": [
        "# Load the given .csv dataset, check the delimiter\n",
        "# df = ...\n",
        "url = \"https://raw.githubusercontent.com/dsfb2/dsfb2-2023/main/assignment_1/data/a1_tutorial_data.csv\"\n",
        "df = pd.read_csv(url, delimiter=\";\")"
      ],
      "metadata": {
        "id": "-owHLjHL1DkR"
      },
      "execution_count": null,
      "outputs": []
    },
    {
      "cell_type": "code",
      "source": [
        "# Print the first 5 rows of the DataFrame \"df\"\n",
        "df.head(5)"
      ],
      "metadata": {
        "id": "KUVyHfJf1dPp"
      },
      "execution_count": null,
      "outputs": []
    },
    {
      "cell_type": "code",
      "source": [
        "# Visualize data\n",
        "# DO NOT MODIFY THIS CELL\n",
        "plt.clf()\n",
        "plt.rcParams.update({'font.size': 10, 'figure.dpi':150})\n",
        "sns.scatterplot(data=df, x=\"distance\", y=\"time_to_buyer\", marker='+')\n",
        "plt.grid(linestyle='-', linewidth=0.2)"
      ],
      "metadata": {
        "id": "S34bJg-s2bCc"
      },
      "execution_count": null,
      "outputs": []
    },
    {
      "cell_type": "code",
      "source": [
        "# Create the geature matrix (numpy array X) from the column \"distance\" of \"df\" DataFrame, make sure X.shape==(len(X),1)\n",
        "# and create label vector (numpy array y) from \"time_to_buyer\" of \"df\" DataFrame, make sure y.shape==(len(y),)\n",
        "X = df[\"distance\"].to_numpy().reshape(-1,1)\n",
        "y = df[\"time_to_buyer\"].to_numpy()"
      ],
      "metadata": {
        "id": "OPEOblbe3PyT"
      },
      "execution_count": null,
      "outputs": []
    },
    {
      "cell_type": "code",
      "source": [
        "# Create a list named quantiles, that contains the values of quantiles to estimate: 0.1, 0.5, 0.9\n",
        "# quantiles = ...\n",
        "quantiles = [0.1, 0.5, 0.9]"
      ],
      "metadata": {
        "id": "y2RG36IvHOuo"
      },
      "execution_count": null,
      "outputs": []
    },
    {
      "cell_type": "code",
      "source": [
        "# Create an empty dictionary named predictions, where we will store our results\n",
        "# predictions = ...\n",
        "predictions = {}"
      ],
      "metadata": {
        "id": "XBRPnEgZHQme"
      },
      "execution_count": null,
      "outputs": []
    },
    {
      "cell_type": "code",
      "source": [
        "# for ... in ... :          # loop through the list of quantiles and estimate quantile regression\n",
        "#   qr = ...                # initialise a QuantileRegression classifier, set quantile and set argument alpha = 0\n",
        "#   qr...                   # fit the model to the data\n",
        "#   y_pred_qr = ...         # computed predicted labels for all data points\n",
        "for quantile in quantiles:\n",
        "  qr = QuantileRegressor(quantile=quantile, alpha=0, solver='highs')\n",
        "  qr.fit(X, y)\n",
        "  y_pred_qr = qr.predict(X)\n",
        "  predictions[quantile] = y_pred_qr"
      ],
      "metadata": {
        "id": "GKssNPJHmIuK"
      },
      "execution_count": null,
      "outputs": []
    },
    {
      "cell_type": "code",
      "source": [
        "# lr = ...                  # initialise a LinearRegression classifier, use default value for all arguments\n",
        "# lr...                     # fit the model to the data\n",
        "# y_pred_lr = ...           # computed predicted labels for all data points\n",
        "\n",
        "lr = LinearRegression()\n",
        "lr.fit(X, y)\n",
        "y_pred_lr = lr.predict(X)"
      ],
      "metadata": {
        "id": "QPZ_XCYstE__"
      },
      "execution_count": null,
      "outputs": []
    },
    {
      "cell_type": "code",
      "source": [
        "# Visualize data\n",
        "# DO NOT MODIFY THIS CELL\n",
        "colordict = {\n",
        "  0.1 : \"orange\",\n",
        "  0.5 : \"green\",\n",
        "  0.9 : \"blue\"\n",
        "  }\n",
        "plt.clf()\n",
        "plt.rcParams.update({'font.size': 10, 'figure.dpi':300})\n",
        "for quantile, y_pred_qr in predictions.items():\n",
        "    plt.plot(X, y_pred_qr, label=f\"Quantile: {quantile}\", color = colordict.get(quantile))\n",
        "plt.plot(X, y_pred_lr, color=\"red\", linestyle=\"dotted\", label = \"OLS\")\n",
        "plt.scatter(X, y, marker = '.', color = \"black\", s=0.5)\n",
        "plt.xlabel(\"distance\")\n",
        "plt.ylabel(\"time_to_buyer\")\n",
        "plt.legend()"
      ],
      "metadata": {
        "id": "T0NA5bBMnZlh"
      },
      "execution_count": null,
      "outputs": []
    },
    {
      "cell_type": "code",
      "source": [
        "# linear_regression = ...                   # initialise a LinearRegression classifier, use default value for all arguments\n",
        "# linear_regression...                      # fit the model to the data\n",
        "# y_pred_linear_regression = ...            # computed predicted labels for all data points\n",
        "linear_regression = LinearRegression()\n",
        "linear_regression.fit(X, y)\n",
        "y_pred_linear_regression = linear_regression.predict(X)"
      ],
      "metadata": {
        "id": "CH1k8KFvHVyA"
      },
      "execution_count": null,
      "outputs": []
    },
    {
      "cell_type": "code",
      "source": [
        "# quantile_regression = ...                   # initialise a QuantileRegression classifier, choose quantile equivalent to median estimation, set argument alpha = 0\n",
        "# quantile_regression...                      # fit the model to the data\n",
        "# y_pred_quantile_regression = ...            # computed predicted labels for all data points\n",
        "quantile_regression = QuantileRegressor(quantile=0.5, alpha=0, solver='highs')\n",
        "quantile_regression.fit(X, y)\n",
        "y_pred_quantile_regression = quantile_regression.predict(X)\n"
      ],
      "metadata": {
        "id": "_ufYfJO_HY0D"
      },
      "execution_count": null,
      "outputs": []
    },
    {
      "cell_type": "code",
      "source": [
        "# Print the results\n",
        "# DO NOT MODIFY THIS CELL\n",
        "print(\n",
        "  f\"\"\"Training error (in-sample performance)\n",
        "  {linear_regression.__class__.__name__}:\n",
        "  MAE = {mean_absolute_error(y, y_pred_linear_regression):.3f}\n",
        "  MSE = {mean_squared_error(y, y_pred_linear_regression):.3f}\n",
        "  {quantile_regression.__class__.__name__}:\n",
        "  MAE = {mean_absolute_error(y, y_pred_quantile_regression):.3f}\n",
        "  MSE = {mean_squared_error(y, y_pred_quantile_regression):.3f}\n",
        "  \"\"\"\n",
        ")"
      ],
      "metadata": {
        "id": "h-7Z2ho48AcB"
      },
      "execution_count": null,
      "outputs": []
    },
    {
      "cell_type": "code",
      "source": [
        "# Create cross-validation instance for linear regression\n",
        "cv_results_lr = cross_validate(\n",
        "  linear_regression,\n",
        "  X,\n",
        "  y,\n",
        "  cv=3,\n",
        "  scoring=[\"neg_mean_absolute_error\", \"neg_mean_squared_error\"],\n",
        ")"
      ],
      "metadata": {
        "id": "2ME5R81fIjrJ"
      },
      "execution_count": null,
      "outputs": []
    },
    {
      "cell_type": "code",
      "source": [
        "# Create cross-validation instance for quantile regression\n",
        "cv_results_qr = cross_validate(\n",
        "  quantile_regression,\n",
        "  X,\n",
        "  y,\n",
        "  cv=3,\n",
        "  scoring=[\"neg_mean_absolute_error\", \"neg_mean_squared_error\"],\n",
        ")"
      ],
      "metadata": {
        "id": "aGk25XtpGzsB"
      },
      "execution_count": null,
      "outputs": []
    },
    {
      "cell_type": "code",
      "source": [
        "# Print the results\n",
        "# DO NOT MODIFY THIS CELL\n",
        "print(\n",
        "    f\"\"\"Test error (cross-validated performance)\n",
        "    {linear_regression.__class__.__name__}:\n",
        "    MAE = {-cv_results_lr[\"test_neg_mean_absolute_error\"].mean():.3f}\n",
        "    MSE = {-cv_results_lr[\"test_neg_mean_squared_error\"].mean():.3f}\n",
        "    {quantile_regression.__class__.__name__}:\n",
        "    MAE = {-cv_results_qr[\"test_neg_mean_absolute_error\"].mean():.3f}\n",
        "    MSE = {-cv_results_qr[\"test_neg_mean_squared_error\"].mean():.3f}\n",
        "    \"\"\"\n",
        ")"
      ],
      "metadata": {
        "id": "HUESjH9EHm45"
      },
      "execution_count": null,
      "outputs": []
    }
  ]
}
